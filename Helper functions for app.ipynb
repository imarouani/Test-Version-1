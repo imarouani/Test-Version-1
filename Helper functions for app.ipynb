{
 "cells": [
  {
   "cell_type": "markdown",
   "id": "9ec832e0-d6ae-4988-b9f7-234eb58c66e0",
   "metadata": {},
   "source": [
    "# Fetch from Openai function"
   ]
  },
  {
   "cell_type": "code",
   "execution_count": 67,
   "id": "67ebb4b6-3c42-4ff7-aea6-031b4a6b1f15",
   "metadata": {},
   "outputs": [
    {
     "name": "stdout",
     "output_type": "stream",
     "text": [
      "City Details: {'capital_1': {'name': 'Ulaanbaatar', 'country': 'Mongolia', 'fun_fact': 'Ulaanbaatar is the coldest capital city in the world with average temperatures below zero degrees celsius for more than half the year.'}, 'capital_2': {'name': 'Lisbon', 'country': 'Portugal', 'fun_fact': 'Lisbon is known for having the oldest bookstore in the world, Bertrand Bookstore, which opened in 1732.'}, 'distance_km': 7968, 'flight_time_hours': 10, 'walking_swimming_time': 'Land: 70%, Sea: 30%. You will need 140 days walking + 66 days swimming.'}\n"
     ]
    }
   ],
   "source": [
    "import json\n",
    "from openai import OpenAI\n",
    "import toml\n",
    "import streamlit as st\n",
    "\n",
    "# Initialize the OpenAI client with the API key from the secrets file\n",
    "api_key = st.secrets[\"api_key\"]\n",
    "client = OpenAI(api_key=api_key)\n",
    "\n",
    "def fetch_random_cities():\n",
    "    \"\"\"\n",
    "    Fetches details about two random cities using the OpenAI API.\n",
    "    \"\"\"\n",
    "    prompt = \"\"\"\n",
    "    Provide a JSON object with the following details about two random capitals:\n",
    "    - Name of the capital\n",
    "    - Country of the capital\n",
    "    - Distance between the two capitals in kilometers\n",
    "    - Estimated flight time between the cities in hours\n",
    "    - Fun fact about each cit\n",
    "    - A detailed breakdown of walking and swimming time, assuming:\n",
    "      - Humans walk 5 km per hour, walking 8 hours per day.\n",
    "      - Swimming speed is 2 km per hour, swimming 6 hours per day.\n",
    "      - The walking time is calculated based on an approximate percentage of the total distance being over land, e.g., 70% land and 30% sea. Adjust walking and swimming times accordingly.\n",
    "    \n",
    "    Example:\n",
    "    {\n",
    "        \"capital_1\": {\"name\": \"Paris\", \"country\": \"France\", \"fun_fact\": \"Paris has a hidden vineyard in Montmartre.\"},\n",
    "        \"capital_2\": {\"name\": \"New York\", \"country\": \"USA\", \"fun_fact\": \"New York's Central Park is larger than Monaco.\"},\n",
    "        \"distance_km\": 5837,\n",
    "        \"flight_time_hours\": 7.2,\n",
    "        \"walking_swimming_time\": \"You will need 120 days walking + 60 days swimming.\"\n",
    "    }\n",
    "    \"\"\"\n",
    "    try:\n",
    "        # Create a chat completion request\n",
    "        response = client.chat.completions.create(\n",
    "            model=\"gpt-3.5-turbo\",\n",
    "            messages=[\n",
    "                {\"role\": \"system\", \"content\": \"You are a fact and geography expert and provide the requested data accurately and you dont favor popular capitals over others, the probability is even across all capitals.\"},\n",
    "                {\"role\": \"user\", \"content\": prompt},\n",
    "            ],\n",
    "            temperature=1.0 #we make it 1.0 to be as random as possible\n",
    "        )\n",
    "        # Extract and parse the response content\n",
    "        content = response.choices[0].message.content.strip()\n",
    "        return json.loads(content)\n",
    "    except json.JSONDecodeError:\n",
    "        return \"We are experiencing a server issue, play try again.\"\n",
    "    except Exception as e:\n",
    "        return f\"An error occurred: {e}\"\n",
    "\n",
    "if __name__ == \"__main__\":\n",
    "    cities_info = fetch_random_cities()\n",
    "    print(\"City Details:\", cities_info)\n"
   ]
  },
  {
   "cell_type": "code",
   "execution_count": 68,
   "id": "5c1de817-0dcb-4bf5-a951-8ca45317ab10",
   "metadata": {},
   "outputs": [],
   "source": [
    "import json\n",
    "from openai import OpenAI\n",
    "import streamlit as st\n",
    "\n",
    "# Initialize the OpenAI client with the API key from secrets\n",
    "api_key = st.secrets[\"api_key\"]\n",
    "client = OpenAI(api_key=api_key)\n",
    "\n",
    "def evaluate_guess(city_details, user_guess):\n",
    "    \"\"\"\n",
    "    Evaluate the user's guess in the context of the city game.\n",
    "\n",
    "    Args:\n",
    "        city_details (dict): Dictionary containing city details and distance information.\n",
    "        user_guess (str): The city guessed by the user.\n",
    "\n",
    "    Returns:\n",
    "        dict: Evaluation result including correctness, capital status, and distance.\n",
    "    \"\"\"\n",
    "    # Construct the prompt for the OpenAI model\n",
    "    prompt = f\"\"\"\n",
    "    Reference City: {city_details['capital_1']['name']}\n",
    "    Correct City: {city_details['capital_2']['name']}\n",
    "    User Guess: {user_guess}\n",
    "\n",
    "    Evaluate the user's guess following these instructions:\n",
    "    -Is the guess correct?\n",
    "    -Is it a capital of a country?\n",
    "    -is the guessed city a real city (valid)? \n",
    "    -if the city does not exist, return null.  \n",
    "    -if the city is a valid city (real) calculate the distance in kilometers from the reference city to the guessed city.\n",
    "    -Provide the output in this JSON format:\n",
    "    {{\n",
    "        \"guess_correct\": <true/false>,\n",
    "        \"is_capital\": <true/false>,\n",
    "        \"valid_city\": <true/false>,\n",
    "        \"distance_to_reference_km\": <distance or null>\n",
    "    }}\n",
    "    \"\"\"\n",
    "\n",
    "    try:\n",
    "        # Use the chat completion API\n",
    "        response = client.chat.completions.create(\n",
    "            model=\"gpt-3.5-turbo\",\n",
    "            messages=[\n",
    "                {\"role\": \"system\", \"content\": \"You are a geography and distance expert that evaluates accurately if a certain input is a city, capital, and how far is it from the given capital.\"},\n",
    "                {\"role\": \"user\", \"content\": prompt},\n",
    "            ],\n",
    "            temperature=0  # Set temperature for deterministic responses\n",
    "        )\n",
    "        # Extract and parse the response content\n",
    "        content = response.choices[0].message.content.strip()\n",
    "        result = json.loads(content)  # Parse JSON-like string into a Python dictionary\n",
    "\n",
    "        # Additional check: If the city is not valid, set the distance to None\n",
    "        if not result.get(\"valid_city\", False):\n",
    "            result[\"distance_to_reference_km\"] = None\n",
    "        return result\n",
    "\n",
    "    except json.JSONDecodeError:\n",
    "        return {\"error\": \"Failed to parse the response. Please try again.\"}\n",
    "    except Exception as e:\n",
    "        return {\"error\": str(e)}\n"
   ]
  },
  {
   "cell_type": "code",
   "execution_count": 70,
   "id": "26e740a4-da8f-47af-82db-ce9d82736099",
   "metadata": {},
   "outputs": [
    {
     "name": "stdout",
     "output_type": "stream",
     "text": [
      "{'guess_correct': False, 'is_capital': True, 'valid_city': True, 'distance_to_reference_km': 11335}\n"
     ]
    }
   ],
   "source": [
    "city_details = {\n",
    "    'capital_1': {'name': 'Santiago', 'country': 'Chile', 'fun_fact': 'Santiago is one of the most polluted cities in Latin America.'},\n",
    "    'capital_2': {'name': 'Maputo', 'country': 'Mozambique', 'fun_fact': 'Maputo is known for its jacaranda-lined streets and vibrant arts scene.'},\n",
    "    'distance_km': 6643,\n",
    "    'flight_time_hours': 8.3,\n",
    "    'walking_swimming_time': 'You will need 139 days walking + 68 days swimming.'\n",
    "}\n",
    "user_guess = \"tunis\"\n",
    "\n",
    "result = evaluate_guess(city_details, user_guess)\n",
    "print(result)\n"
   ]
  },
  {
   "cell_type": "markdown",
   "id": "21b11484-4ab0-43e8-a38d-ec12a0e9a1c9",
   "metadata": {},
   "source": [
    "# Evaluate guess quality function"
   ]
  },
  {
   "cell_type": "markdown",
   "id": "366c59e8-bb56-4baa-9295-3acac9bd50a3",
   "metadata": {},
   "source": [
    "# Working test code: "
   ]
  },
  {
   "cell_type": "code",
   "execution_count": 5,
   "id": "6040cfa6-89cc-44b9-b194-d48b12669375",
   "metadata": {
    "scrolled": true
   },
   "outputs": [
    {
     "name": "stderr",
     "output_type": "stream",
     "text": [
      "2024-11-28 07:52:09.536 Thread 'MainThread': missing ScriptRunContext! This warning can be ignored when running in bare mode.\n",
      "2024-11-28 07:52:09.537 Thread 'MainThread': missing ScriptRunContext! This warning can be ignored when running in bare mode.\n",
      "2024-11-28 07:52:09.537 Thread 'MainThread': missing ScriptRunContext! This warning can be ignored when running in bare mode.\n",
      "2024-11-28 07:52:09.537 Thread 'MainThread': missing ScriptRunContext! This warning can be ignored when running in bare mode.\n",
      "2024-11-28 07:52:09.538 Thread 'MainThread': missing ScriptRunContext! This warning can be ignored when running in bare mode.\n",
      "2024-11-28 07:52:09.538 Thread 'MainThread': missing ScriptRunContext! This warning can be ignored when running in bare mode.\n",
      "2024-11-28 07:52:09.538 Thread 'MainThread': missing ScriptRunContext! This warning can be ignored when running in bare mode.\n",
      "2024-11-28 07:52:09.538 Thread 'MainThread': missing ScriptRunContext! This warning can be ignored when running in bare mode.\n",
      "2024-11-28 07:52:09.539 Thread 'MainThread': missing ScriptRunContext! This warning can be ignored when running in bare mode.\n",
      "2024-11-28 07:52:09.539 Thread 'MainThread': missing ScriptRunContext! This warning can be ignored when running in bare mode.\n",
      "2024-11-28 07:52:09.539 Thread 'MainThread': missing ScriptRunContext! This warning can be ignored when running in bare mode.\n",
      "2024-11-28 07:52:09.539 Thread 'MainThread': missing ScriptRunContext! This warning can be ignored when running in bare mode.\n",
      "2024-11-28 07:52:09.540 Thread 'MainThread': missing ScriptRunContext! This warning can be ignored when running in bare mode.\n",
      "2024-11-28 07:52:09.540 Thread 'MainThread': missing ScriptRunContext! This warning can be ignored when running in bare mode.\n",
      "2024-11-28 07:52:09.540 Thread 'MainThread': missing ScriptRunContext! This warning can be ignored when running in bare mode.\n",
      "2024-11-28 07:52:09.541 Thread 'MainThread': missing ScriptRunContext! This warning can be ignored when running in bare mode.\n",
      "2024-11-28 07:52:09.541 Thread 'MainThread': missing ScriptRunContext! This warning can be ignored when running in bare mode.\n",
      "2024-11-28 07:52:09.541 Thread 'MainThread': missing ScriptRunContext! This warning can be ignored when running in bare mode.\n",
      "2024-11-28 07:52:09.541 Thread 'MainThread': missing ScriptRunContext! This warning can be ignored when running in bare mode.\n",
      "2024-11-28 07:52:09.542 Thread 'MainThread': missing ScriptRunContext! This warning can be ignored when running in bare mode.\n",
      "2024-11-28 07:52:09.542 Thread 'MainThread': missing ScriptRunContext! This warning can be ignored when running in bare mode.\n"
     ]
    }
   ],
   "source": [
    "from assets.utils import fetch_random_cities, guess_eval\n",
    "import streamlit as st\n",
    "\n",
    "\n",
    "def main():\n",
    "    st.title(\"Guess the Distance Between Two Cities\")\n",
    "\n",
    "    if 'game_data' not in st.session_state:\n",
    "        st.session_state.game_data = fetch_random_cities()\n",
    "        st.session_state.guesses = []\n",
    "        st.session_state.rounds = []\n",
    "\n",
    "    game_data = st.session_state.game_data\n",
    "\n",
    "    if isinstance(game_data, str):\n",
    "        st.error(game_data)\n",
    "        return\n",
    "\n",
    "    city1 = game_data['city1']\n",
    "    city2 = game_data['city2']\n",
    "    target_distance = game_data['distance_km']\n",
    "\n",
    "    st.write(f\"Guess the distance between **{city1['name']}**, {city1['country']} and **{city2['name']}**, {city2['country']}.\")\n",
    "\n",
    "    with st.form(key='guess_form'):\n",
    "        user_guess = st.number_input(\"Enter your guess in kilometers:\", min_value=0)\n",
    "        submit_button = st.form_submit_button(label='Submit')\n",
    "\n",
    "    if submit_button:\n",
    "        is_correct, difference = guess_eval(target_distance, user_guess)\n",
    "        st.session_state.guesses.append(difference)\n",
    "\n",
    "        if is_correct:\n",
    "            st.success(\"Congratulations! Your guess is correct.\")\n",
    "            st.session_state.rounds.append({\n",
    "                'target_distance': target_distance,\n",
    "                'total_difference': sum(st.session_state.guesses),\n",
    "                'num_guesses': len(st.session_state.guesses)\n",
    "            })\n",
    "            st.session_state.game_data = fetch_random_cities()\n",
    "            st.session_state.guesses = []\n",
    "        else:\n",
    "            st.info(f\"Your guess was off by {difference:.2f} km. Try again!\")\n",
    "\n",
    "if __name__ == \"__main__\":\n",
    "    main()\n"
   ]
  },
  {
   "cell_type": "code",
   "execution_count": null,
   "id": "a79f7569-3272-4b9f-889b-a3d113cf593b",
   "metadata": {},
   "outputs": [],
   "source": []
  }
 ],
 "metadata": {
  "kernelspec": {
   "display_name": "Python 3 (ipykernel)",
   "language": "python",
   "name": "python3"
  },
  "language_info": {
   "codemirror_mode": {
    "name": "ipython",
    "version": 3
   },
   "file_extension": ".py",
   "mimetype": "text/x-python",
   "name": "python",
   "nbconvert_exporter": "python",
   "pygments_lexer": "ipython3",
   "version": "3.9.20"
  }
 },
 "nbformat": 4,
 "nbformat_minor": 5
}
